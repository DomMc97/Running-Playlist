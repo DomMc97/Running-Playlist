{
  "nbformat": 4,
  "nbformat_minor": 0,
  "metadata": {
    "colab": {
      "name": "Spotify_classifier.ipynb",
      "provenance": [],
      "collapsed_sections": [],
      "authorship_tag": "ABX9TyPDO244OyjSJxrpx0USNfM2",
      "include_colab_link": true
    },
    "kernelspec": {
      "name": "python3",
      "display_name": "Python 3"
    }
  },
  "cells": [
    {
      "cell_type": "markdown",
      "metadata": {
        "id": "view-in-github",
        "colab_type": "text"
      },
      "source": [
        "<a href=\"https://colab.research.google.com/github/DomMc97/Running-Playlist/blob/main/Spotify_classifier.ipynb\" target=\"_parent\"><img src=\"https://colab.research.google.com/assets/colab-badge.svg\" alt=\"Open In Colab\"/></a>"
      ]
    },
    {
      "cell_type": "markdown",
      "metadata": {
        "id": "60erESejnFAW"
      },
      "source": [
        "# Spotify Classifier\r\n",
        "\r\n",
        "A notebook which creates a running playlists based on a classifier which predicts my rating of how good a song is to run too."
      ]
    },
    {
      "cell_type": "markdown",
      "metadata": {
        "id": "aI6uEfwRo9VI"
      },
      "source": [
        "## Set Up"
      ]
    },
    {
      "cell_type": "markdown",
      "metadata": {
        "id": "h7KaxRReo-9B"
      },
      "source": [
        "Import libraries."
      ]
    },
    {
      "cell_type": "code",
      "metadata": {
        "id": "CR_zIHWIqQef"
      },
      "source": [
        "# data analytics library\r\n",
        "import pandas as pd\r\n",
        "\r\n",
        "import numpy as np\r\n",
        "# sklearn functions\r\n",
        "from sklearn.preprocessing import StandardScaler\r\n",
        "from sklearn.linear_model import RidgeClassifierCV, RidgeClassifier\r\n",
        "from sklearn.metrics import recall_score, accuracy_score\r\n",
        "from sklearn.svm import SVC\r\n",
        "\r\n",
        "import matplotlib.pyplot as plt\r\n",
        "\r\n",
        "from sklearn.model_selection import GridSearchCV, StratifiedKFold\r\n",
        "import seaborn as sns\r\n"
      ],
      "execution_count": 1,
      "outputs": []
    },
    {
      "cell_type": "code",
      "metadata": {
        "colab": {
          "base_uri": "https://localhost:8080/"
        },
        "id": "Zw1TfrtjrusC",
        "outputId": "36f75aa3-4315-4b58-de1a-5164dfcc3213"
      },
      "source": [
        "# spotify library\r\n",
        "!pip install Spotipy\r\n",
        "import spotipy \r\n",
        "from spotipy.oauth2 import SpotifyClientCredentials"
      ],
      "execution_count": 2,
      "outputs": [
        {
          "output_type": "stream",
          "text": [
            "Collecting Spotipy\n",
            "  Downloading https://files.pythonhosted.org/packages/7a/cd/e7d9a35216ea5bfb9234785f3d8fa7c96d0e33999c2cb72394128f6b4cce/spotipy-2.16.1-py3-none-any.whl\n",
            "Requirement already satisfied: requests>=2.20.0 in /usr/local/lib/python3.6/dist-packages (from Spotipy) (2.23.0)\n",
            "Requirement already satisfied: six>=1.10.0 in /usr/local/lib/python3.6/dist-packages (from Spotipy) (1.15.0)\n",
            "Requirement already satisfied: idna<3,>=2.5 in /usr/local/lib/python3.6/dist-packages (from requests>=2.20.0->Spotipy) (2.10)\n",
            "Requirement already satisfied: urllib3!=1.25.0,!=1.25.1,<1.26,>=1.21.1 in /usr/local/lib/python3.6/dist-packages (from requests>=2.20.0->Spotipy) (1.24.3)\n",
            "Requirement already satisfied: certifi>=2017.4.17 in /usr/local/lib/python3.6/dist-packages (from requests>=2.20.0->Spotipy) (2020.12.5)\n",
            "Requirement already satisfied: chardet<4,>=3.0.2 in /usr/local/lib/python3.6/dist-packages (from requests>=2.20.0->Spotipy) (3.0.4)\n",
            "Installing collected packages: Spotipy\n",
            "Successfully installed Spotipy-2.16.1\n"
          ],
          "name": "stdout"
        }
      ]
    },
    {
      "cell_type": "code",
      "metadata": {
        "colab": {
          "base_uri": "https://localhost:8080/"
        },
        "id": "pK7BIBFumqV4",
        "outputId": "dd539867-e06b-4ae0-9bf1-5553d95b532f"
      },
      "source": [
        "# libraries for saving/loading data\r\n",
        "from google.colab import drive\r\n",
        "import pickle\r\n",
        "\r\n",
        "# mount drive\r\n",
        "drive.mount('/content/drive')\r\n",
        "\r\n",
        "# root of all file paths used in notebook\r\n",
        "root = '/content/drive/My Drive/Spotify/Data/'"
      ],
      "execution_count": 3,
      "outputs": [
        {
          "output_type": "stream",
          "text": [
            "Mounted at /content/drive\n"
          ],
          "name": "stdout"
        }
      ]
    },
    {
      "cell_type": "markdown",
      "metadata": {
        "id": "vtThqFUcE3QU"
      },
      "source": [
        "## Load Data"
      ]
    },
    {
      "cell_type": "markdown",
      "metadata": {
        "id": "llovTjn9FBke"
      },
      "source": [
        "Loads in the scaled df of my liked song data."
      ]
    },
    {
      "cell_type": "code",
      "metadata": {
        "colab": {
          "base_uri": "https://localhost:8080/",
          "height": 234
        },
        "id": "QCb3uGdWE6qU",
        "outputId": "45f7ed19-e12b-47d0-ffbe-fd9b1fc8e6eb"
      },
      "source": [
        "scaled_df = pd.read_csv(root + 'scaledsongs.csv',index_col=0)\r\n",
        "N, M = scaled_df.shape\r\n",
        "print('Columns: ', M, '\\nRows:', N)\r\n",
        "scaled_df.head()"
      ],
      "execution_count": 4,
      "outputs": [
        {
          "output_type": "stream",
          "text": [
            "Columns:  9 \n",
            "Rows: 2602\n"
          ],
          "name": "stdout"
        },
        {
          "output_type": "execute_result",
          "data": {
            "text/html": [
              "<div>\n",
              "<style scoped>\n",
              "    .dataframe tbody tr th:only-of-type {\n",
              "        vertical-align: middle;\n",
              "    }\n",
              "\n",
              "    .dataframe tbody tr th {\n",
              "        vertical-align: top;\n",
              "    }\n",
              "\n",
              "    .dataframe thead th {\n",
              "        text-align: right;\n",
              "    }\n",
              "</style>\n",
              "<table border=\"1\" class=\"dataframe\">\n",
              "  <thead>\n",
              "    <tr style=\"text-align: right;\">\n",
              "      <th></th>\n",
              "      <th>name</th>\n",
              "      <th>id</th>\n",
              "      <th>key</th>\n",
              "      <th>acousticness</th>\n",
              "      <th>danceability</th>\n",
              "      <th>energy</th>\n",
              "      <th>loudness</th>\n",
              "      <th>speechiness</th>\n",
              "      <th>tempo</th>\n",
              "    </tr>\n",
              "  </thead>\n",
              "  <tbody>\n",
              "    <tr>\n",
              "      <th>0</th>\n",
              "      <td>Sleep Walker</td>\n",
              "      <td>7KLikopJc6LCkohWF5QnHS</td>\n",
              "      <td>-0.102865</td>\n",
              "      <td>-0.464839</td>\n",
              "      <td>-0.438657</td>\n",
              "      <td>-0.984089</td>\n",
              "      <td>-0.355540</td>\n",
              "      <td>-0.567698</td>\n",
              "      <td>-0.130965</td>\n",
              "    </tr>\n",
              "    <tr>\n",
              "      <th>1</th>\n",
              "      <td>Sex Hair</td>\n",
              "      <td>0zHDpXbBpamkXVfXkTQeUT</td>\n",
              "      <td>-0.377382</td>\n",
              "      <td>-0.340965</td>\n",
              "      <td>-0.121657</td>\n",
              "      <td>0.977156</td>\n",
              "      <td>0.835729</td>\n",
              "      <td>-0.206493</td>\n",
              "      <td>1.516579</td>\n",
              "    </tr>\n",
              "    <tr>\n",
              "      <th>2</th>\n",
              "      <td>Caught Up</td>\n",
              "      <td>645hr7BS1p0a2tT5A4rj1b</td>\n",
              "      <td>-1.200935</td>\n",
              "      <td>-0.490868</td>\n",
              "      <td>-1.175867</td>\n",
              "      <td>0.081278</td>\n",
              "      <td>-0.692986</td>\n",
              "      <td>-0.258742</td>\n",
              "      <td>1.442419</td>\n",
              "    </tr>\n",
              "    <tr>\n",
              "      <th>3</th>\n",
              "      <td>Girl Like You</td>\n",
              "      <td>5ZsuhbdQSRS4wqggUrCz9e</td>\n",
              "      <td>-1.200935</td>\n",
              "      <td>1.375030</td>\n",
              "      <td>0.866205</td>\n",
              "      <td>0.299195</td>\n",
              "      <td>0.120407</td>\n",
              "      <td>0.025224</td>\n",
              "      <td>1.518193</td>\n",
              "    </tr>\n",
              "    <tr>\n",
              "      <th>4</th>\n",
              "      <td>The Difference</td>\n",
              "      <td>4nlvKIIetOWGIMyhjQXgOZ</td>\n",
              "      <td>-1.200935</td>\n",
              "      <td>0.868443</td>\n",
              "      <td>0.357530</td>\n",
              "      <td>0.553430</td>\n",
              "      <td>1.960149</td>\n",
              "      <td>0.734004</td>\n",
              "      <td>1.151212</td>\n",
              "    </tr>\n",
              "  </tbody>\n",
              "</table>\n",
              "</div>"
            ],
            "text/plain": [
              "             name                      id  ...  speechiness     tempo\n",
              "0    Sleep Walker  7KLikopJc6LCkohWF5QnHS  ...    -0.567698 -0.130965\n",
              "1        Sex Hair  0zHDpXbBpamkXVfXkTQeUT  ...    -0.206493  1.516579\n",
              "2       Caught Up  645hr7BS1p0a2tT5A4rj1b  ...    -0.258742  1.442419\n",
              "3   Girl Like You  5ZsuhbdQSRS4wqggUrCz9e  ...     0.025224  1.518193\n",
              "4  The Difference  4nlvKIIetOWGIMyhjQXgOZ  ...     0.734004  1.151212\n",
              "\n",
              "[5 rows x 9 columns]"
            ]
          },
          "metadata": {
            "tags": []
          },
          "execution_count": 4
        }
      ]
    },
    {
      "cell_type": "markdown",
      "metadata": {
        "id": "SiEOa1gnpTBd"
      },
      "source": [
        "## Get Ratings\r\n",
        "\r\n",
        "To get the ratings I will play a snippet of each song and from the snippet rate the song. To do so I must first access the Spotify API."
      ]
    },
    {
      "cell_type": "code",
      "metadata": {
        "id": "yCm-mWKvp45L"
      },
      "source": [
        "# user credentials\r\n",
        "cid ='<My CID>'\r\n",
        "secret = '<My Secret ID>'\r\n",
        "username = '<My Username>'\r\n",
        "scope = 'user-library-read playlist-modify-public playlist-modify-private streaming user-read-playback-state'\r\n",
        "redirect_uri = 'http://localhost:8888/callback/'\r\n",
        "\r\n",
        "# access token\r\n",
        "client_credentials_manager = spotipy.oauth2.SpotifyOAuth(\r\n",
        "    scope=scope,\r\n",
        "    username=username,\r\n",
        "    client_id=cid,\r\n",
        "     client_secret=secret,\r\n",
        "      redirect_uri=redirect_uri,\r\n",
        "      open_browser=False)\r\n",
        "\r\n",
        "# aquires access to data\r\n",
        "sp = spotipy.Spotify(client_credentials_manager=client_credentials_manager)"
      ],
      "execution_count": 5,
      "outputs": []
    },
    {
      "cell_type": "markdown",
      "metadata": {
        "id": "tHLfj_2p0ko1"
      },
      "source": [
        "I will now get my device id so I can control my media playback."
      ]
    },
    {
      "cell_type": "code",
      "metadata": {
        "id": "vscuAKxpp9fa"
      },
      "source": [
        "# gets current device\r\n",
        "devices = sp.devices()\r\n",
        "device_id = devices['devices'][0]['id']"
      ],
      "execution_count": null,
      "outputs": []
    },
    {
      "cell_type": "markdown",
      "metadata": {
        "id": "bTNKM3ir0v6E"
      },
      "source": [
        "Now I will get a binary rating of 650 (25%) of my songs. 1 indicates that the song is a good song to run too and 0 indicates it is not a good song to run too. "
      ]
    },
    {
      "cell_type": "code",
      "metadata": {
        "colab": {
          "base_uri": "https://localhost:8080/"
        },
        "id": "ZW5iWkn90u4H",
        "outputId": "4d1ac2a4-de2d-4097-ef6b-f55c9be0fdba"
      },
      "source": [
        "def get_ratings(ids, start_i=0, end_i=500):\r\n",
        "    \"\"\" A function which gets the rating of songs from there Spotify Ids.\r\n",
        "    Inputs:\r\n",
        "      ids: An array or list of Spotify track ids\r\n",
        "      start_i: The index of the first song in ids you want to rate.\r\n",
        "      start_i: The index of the last song in ids you want to rate.\r\n",
        "    Outputs:\r\n",
        "      y: An array of ratings.\r\n",
        "      i: An index of the last song id searched if the search is exited.\r\n",
        "    \"\"\"\r\n",
        "    # valid ratings\r\n",
        "    valid = [str(i) for i in [0, 1]]\r\n",
        "\r\n",
        "    #initiliase ratings\r\n",
        "    y = np.zeros(end_i - start_i)\r\n",
        "    \r\n",
        "    # get ratings\r\n",
        "    i = 0\r\n",
        "    for id in ids[start_i:end_i]:\r\n",
        "        # start playing song on device at 30s in \r\n",
        "        sp.start_playback(device_id=device_id, uris=['spotify:track:' + id],\r\n",
        "                          position_ms=30000)\r\n",
        "\r\n",
        "        # get rating from user\r\n",
        "        while True:\r\n",
        "            print('\\nSong', i+1 ,':')\r\n",
        "            rating = input('Is this a good song for running: 1 for yes, 0 for' \r\n",
        "                           +' no?\\n')\r\n",
        "            # if valid rating add to y\r\n",
        "            if rating in valid:\r\n",
        "                # add to ratings\r\n",
        "                y[i] = int(rating)\r\n",
        "                \r\n",
        "                # increase index\r\n",
        "                i +=1\r\n",
        "                break\r\n",
        "                \r\n",
        "            # allows for early exit if 500 is too many to rank\r\n",
        "            elif rating == 'exit':\r\n",
        "                print('Exiting search.')\r\n",
        "                return y, i\r\n",
        "            \r\n",
        "            # tell user of invalid input\r\n",
        "            else:\r\n",
        "                print('\\nInvalid input answer again.\\n')\r\n",
        "                rating = None\r\n",
        "    print('Finished')\r\n",
        "    # returns ratings\r\n",
        "    return y, i\r\n",
        "\r\n",
        "# Checks whether the ratings have already been found.\r\n",
        "while True:\r\n",
        "    init_run = input('Is this the first run of the code y/n?\\n')\r\n",
        "\r\n",
        "    if init_run == 'y':\r\n",
        "        init_run = True\r\n",
        "        break\r\n",
        "    elif init_run == 'n':\r\n",
        "        init_run = False\r\n",
        "        break\r\n",
        "    else:\r\n",
        "        print('Invalid input.\\n')\r\n",
        "\r\n",
        "# if first run get ratings\r\n",
        "if init_run:\r\n",
        "    # gets 500 ratings\r\n",
        "    y, i = get_ratings(scaled_df['id'])\r\n",
        "\r\n",
        "    # saves result\r\n",
        "    np.save(root + 'y1', y)\r\n",
        "\r\n",
        "    # saves scaler\r\n",
        "    with open(root  + 'i.sav','wb') as f:\r\n",
        "        pickle.dump(i, f)\r\n",
        "\r\n",
        "    # gets another 150\r\n",
        "    y, i = get_ratings(scaled_df['id'], 1200, 1350)\r\n",
        "\r\n",
        "    # saves result\r\n",
        "    np.save(root + 'y2', y)\r\n",
        "\r\n",
        "    # saves scaler\r\n",
        "    with open(root  + 'i2.sav','wb') as f:\r\n",
        "        pickle.dump(i, f)\r\n",
        "# else load results\r\n",
        "else:\r\n",
        "    y1 = np.load(root + 'y1.npy')\r\n",
        "    y2 = np.load(root + 'y2.npy') "
      ],
      "execution_count": 7,
      "outputs": [
        {
          "output_type": "stream",
          "text": [
            "Is this the first run of the code y/n?\n",
            "n\n"
          ],
          "name": "stdout"
        }
      ]
    },
    {
      "cell_type": "markdown",
      "metadata": {
        "id": "ec5_PulP7xBs"
      },
      "source": [
        "I will now create the datasets to be used to train the data."
      ]
    },
    {
      "cell_type": "code",
      "metadata": {
        "id": "h0FuQtAQ0XAp"
      },
      "source": [
        "# descriptor data\r\n",
        "X = scaled_df.iloc[np.r_[:500, 1200:1350]].iloc[:, 2:]\r\n",
        "\r\n",
        "# target data\r\n",
        "y = np.concatenate([y1, y2])\r\n",
        "\r\n",
        "# the data to make predictions from\r\n",
        "X_pred = scaled_df.iloc[:, 2:]"
      ],
      "execution_count": 8,
      "outputs": []
    },
    {
      "cell_type": "markdown",
      "metadata": {
        "id": "H6tB5zvKxqeC"
      },
      "source": [
        "Get the distribution of good and bad songs for running."
      ]
    },
    {
      "cell_type": "code",
      "metadata": {
        "colab": {
          "base_uri": "https://localhost:8080/"
        },
        "id": "oi4BVbuWInxs",
        "outputId": "f6bd8129-29d7-4da5-a258-5fba6ad4d500"
      },
      "source": [
        "# good songs\r\n",
        "good = np.count_nonzero(y)\r\n",
        "# bad songs\r\n",
        "bad = len(y) - good\r\n",
        "\r\n",
        "print('Number of good songs:',good,'\\nNumber of bad songs:', bad)"
      ],
      "execution_count": 9,
      "outputs": [
        {
          "output_type": "stream",
          "text": [
            "Number of good songs: 159 \n",
            "Number of bad songs: 491\n"
          ],
          "name": "stdout"
        }
      ]
    },
    {
      "cell_type": "markdown",
      "metadata": {
        "id": "Oyd-JtVIRE1f"
      },
      "source": [
        "## Classification\r\n",
        "\r\n",
        "### Ridge Classifier\r\n",
        "\r\n",
        "The first model I will use is the Ridge Classifier which for a multi-class problem trains independent ridge models one for each class (One-Vs-Rest modelling) predicting a score between 0 to 1 (not in class to in class) with the prediction being the argmax class. \r\n",
        "\r\n",
        "I will run a 5-fold cross-validation of the parameter $\\alpha$ and I will balance the weights of clases when making predictions."
      ]
    },
    {
      "cell_type": "code",
      "metadata": {
        "colab": {
          "base_uri": "https://localhost:8080/"
        },
        "id": "po-XvKjN1KaU",
        "outputId": "27f65aca-c6d9-4a0e-b91f-903b33828666"
      },
      "source": [
        "# cross validation of the ridge classifier model\r\n",
        "alphas = 10.0**np.arange(-10, 10, 100)\r\n",
        "clf = RidgeClassifierCV(alphas=alphas, class_weight='balanced', cv=5).fit(X, y)\r\n",
        "\r\n",
        "# the predictions of the model\r\n",
        "y_pred = clf.predict(X)\r\n",
        "\r\n",
        "# the mean score of the best parameters\r\n",
        "print('Accuracy: ', clf.score(X, y))\r\n",
        "\r\n",
        "# the recall of the predictions\r\n",
        "print('Recall: ', recall_score(y, y_pred))\r\n",
        "\r\n",
        "# good songs\r\n",
        "good = np.count_nonzero(y_pred)\r\n",
        "# bad songs\r\n",
        "bad = len(y_pred) - good\r\n",
        "\r\n",
        "# the predicted number of good and bad songs\r\n",
        "print('Predicted number of good songs: ', good,\r\n",
        "      '\\nPredicted number of bad songs: ', bad)"
      ],
      "execution_count": 10,
      "outputs": [
        {
          "output_type": "stream",
          "text": [
            "Accuracy:  0.6676923076923077\n",
            "Recall:  0.7735849056603774\n",
            "Predicted number of good songs:  303 \n",
            "Predicted number of bad songs:  347\n"
          ],
          "name": "stdout"
        }
      ]
    },
    {
      "cell_type": "markdown",
      "metadata": {
        "id": "bj2MI8StyYhA"
      },
      "source": [
        "Predictions on test set."
      ]
    },
    {
      "cell_type": "code",
      "metadata": {
        "colab": {
          "base_uri": "https://localhost:8080/"
        },
        "id": "DLeUt1YKyd14",
        "outputId": "a965b23e-03c8-43e3-9776-4fb77e74404c"
      },
      "source": [
        "# the predictions of the model\r\n",
        "y_pred = clf.predict(X_pred)\r\n",
        "\r\n",
        "# good songs\r\n",
        "good = np.count_nonzero(y_pred)\r\n",
        "# bad songs\r\n",
        "bad = len(y_pred) - good\r\n",
        "\r\n",
        "# the predicted number of good and bad songs\r\n",
        "print('Predicted number of good songs: ', good,\r\n",
        "      '\\nPredicted number of bad songs: ', bad)"
      ],
      "execution_count": 11,
      "outputs": [
        {
          "output_type": "stream",
          "text": [
            "Predicted number of good songs:  1371 \n",
            "Predicted number of bad songs:  1231\n"
          ],
          "name": "stdout"
        }
      ]
    },
    {
      "cell_type": "markdown",
      "metadata": {
        "id": "IE3F4KVf5mIP"
      },
      "source": [
        "### SVM\r\n",
        "\r\n",
        "The Ridge model is performing poorly notably down to it's inability to identify non-linerality, for example the tempo has a sweet spot of between 130-180. I will therefore use the method of SVM with the RBF kernel function. I will use 5-fold cross validation to optimise the hyper-parameters of $\\gamma$ and $C$. "
      ]
    },
    {
      "cell_type": "code",
      "metadata": {
        "id": "bm1owF5g2inZ"
      },
      "source": [
        "def SVM(gamma, C, fig_num):\r\n",
        "    \"\"\" A function which runs 5-fold cross-validation of the accuracy of a \r\n",
        "    RBF SVM model for a range of penalty parameters and gamma\r\n",
        "    and displays the result.\r\n",
        "    Inputs:\r\n",
        "        gamma: array of gamma values.\r\n",
        "        C: array of penalty parameters.\r\n",
        "    Output:\r\n",
        "      CV: Results of CV.\r\n",
        "    \"\"\"   \r\n",
        "\r\n",
        "    # RBF SVM classifier\r\n",
        "    SVM = SVC(class_weight='balanced')\r\n",
        "\r\n",
        "    # hyperparameters\r\n",
        "    params = {'C' : C , 'gamma' : gamma}\r\n",
        "\r\n",
        "    if init_run:\r\n",
        "        # grid search of parameters\r\n",
        "        CV = GridSearchCV(SVM, params, scoring='accuracy',verbose=2, \r\n",
        "                            cv=StratifiedKFold(shuffle=True, random_state=0))\r\n",
        "        CV.fit(X, y)\r\n",
        "\r\n",
        "        # save results\r\n",
        "        with open(root + 'RBF_SVM_CV_' + fig_num + '.sav', 'wb') as fp:\r\n",
        "            pickle.dump(CV, fp)\r\n",
        "    else:\r\n",
        "        # load fitted grid search\r\n",
        "        CV = pickle.load(open(root + 'RBF_SVM_CV_' + fig_num + '.sav', 'rb'))\r\n",
        "  \r\n",
        "    # print results\r\n",
        "    print('Best Score: ', CV.best_score_, '\\nBest Parameters: ',\r\n",
        "          CV.best_params_)\r\n",
        "\r\n",
        "    # length of paramas\r\n",
        "    N, M = len(C), len(gamma)\r\n",
        "\r\n",
        "    # gets a 2D grid of results\r\n",
        "    scores = CV.cv_results_['mean_test_score']\r\n",
        "    grid = scores.reshape(N, M)\r\n",
        "\r\n",
        "    # min and max scores\r\n",
        "    vmin = min(scores)\r\n",
        "    vmax = max(scores)\r\n",
        "    \r\n",
        "    # create fig\r\n",
        "    fig, ax = plt.subplots()\r\n",
        "    \r\n",
        "    # create heat map of CV   \r\n",
        "    sns.heatmap(grid, vmin=vmin, vmax=vmax, xticklabels=gamma, yticklabels=C,\r\n",
        "                ax=ax)\r\n",
        "    # title\r\n",
        "    ax.set_title('RBF SVM Accuracy Optimisation (Fig.' + fig_num + ')',\r\n",
        "                 fontsize='15', y=1.04)\r\n",
        "    \r\n",
        "    ax.set_ylabel('Penalty Parameter')\r\n",
        "    ax.set_xlabel(r'$gamma$')\r\n",
        "\r\n",
        "    plt.show()\r\n",
        "    \r\n",
        "    return CV"
      ],
      "execution_count": 12,
      "outputs": []
    },
    {
      "cell_type": "markdown",
      "metadata": {
        "id": "j7xlGB6l58rc"
      },
      "source": [
        "I will first test for a wide range of parameters of $C$ and $\\gamma$ at variety of scales."
      ]
    },
    {
      "cell_type": "code",
      "metadata": {
        "colab": {
          "base_uri": "https://localhost:8080/",
          "height": 397
        },
        "id": "KKP9FDKS2wcd",
        "outputId": "25ec71b8-bb3e-4759-a35e-c2af7f294782"
      },
      "source": [
        "# a log range of gamma\r\n",
        "gamma = 2.0**np.arange(-10,11,2)\r\n",
        "\r\n",
        "# log range of the penalty parameter\r\n",
        "C = 2.0**np.arange(-10,11,2) \r\n",
        "\r\n",
        "# 5-fold CV to find optimum hyperparamaters\r\n",
        "_ = SVM(gamma, C, fig_num='1')"
      ],
      "execution_count": 13,
      "outputs": [
        {
          "output_type": "stream",
          "text": [
            "Best Score:  0.7553834556522728 \n",
            "Best Parameters:  {'C': 0.0009765625, 'gamma': 16.0}\n"
          ],
          "name": "stdout"
        },
        {
          "output_type": "display_data",
          "data": {
            "image/png": "[encoded data removed]",
            "text/plain": [
              "<Figure size 432x288 with 2 Axes>"
            ]
          },
          "metadata": {
            "tags": [],
            "needs_background": "light"
          }
        }
      ]
    },
    {
      "cell_type": "markdown",
      "metadata": {
        "id": "l8Sd-GHl7yF5"
      },
      "source": [
        "I will now perform a more refined searched of the optimal (white) region seen in Fig.1 "
      ]
    },
    {
      "cell_type": "code",
      "metadata": {
        "colab": {
          "base_uri": "https://localhost:8080/",
          "height": 436
        },
        "id": "DLQi81gA4qA4",
        "outputId": "61383479-d069-4882-85dc-f2ffda5f8cfc"
      },
      "source": [
        "# a log range of gamma\r\n",
        "gamma = 2.0**np.arange(1,10,0.5)\r\n",
        "\r\n",
        "# log range of the penalty parameter\r\n",
        "C = 2.0**np.arange(1,10,0.5) \r\n",
        "\r\n",
        "# 5-fold CV to find optimum hyperparamaters\r\n",
        "RBF_CV = SVM(gamma, C, fig_num='2')"
      ],
      "execution_count": 14,
      "outputs": [
        {
          "output_type": "stream",
          "text": [
            "Best Score:  0.7584627638391078 \n",
            "Best Parameters:  {'C': 2.0, 'gamma': 8.0}\n"
          ],
          "name": "stdout"
        },
        {
          "output_type": "display_data",
          "data": {
            "image/png": "[encoded data removed]",
            "text/plain": [
              "<Figure size 432x288 with 2 Axes>"
            ]
          },
          "metadata": {
            "tags": [],
            "needs_background": "light"
          }
        }
      ]
    },
    {
      "cell_type": "markdown",
      "metadata": {
        "id": "H0XXxXb78VSn"
      },
      "source": [
        "I will now evaluate the performance of the optimum model according to the cross-validation of accuracy.  "
      ]
    },
    {
      "cell_type": "code",
      "metadata": {
        "colab": {
          "base_uri": "https://localhost:8080/"
        },
        "id": "MBv6toCLn8QB",
        "outputId": "8cf8c289-e2f3-4dd7-8f92-8aff5f055639"
      },
      "source": [
        "# the trained optimum model\r\n",
        "clf = RBF_CV.best_estimator_\r\n",
        "\r\n",
        "# the predictions of the model\r\n",
        "y_pred = clf.predict(X)\r\n",
        "\r\n",
        "# the mean score of the best parameters\r\n",
        "print('Accuracy: ', clf.score(X, y))\r\n",
        "\r\n",
        "# the recall of the predictions\r\n",
        "print('Recall: ', recall_score(y, y_pred))\r\n",
        "\r\n",
        "# good songs\r\n",
        "good = np.count_nonzero(y_pred)\r\n",
        "# bad songs\r\n",
        "bad = len(y_pred) - good\r\n",
        "\r\n",
        "# the predicted number of good and bad songs\r\n",
        "print('Predicted number of good songs: ', good,\r\n",
        "      '\\nPredicted number of bad songs: ', bad)"
      ],
      "execution_count": 15,
      "outputs": [
        {
          "output_type": "stream",
          "text": [
            "Accuracy:  1.0\n",
            "Recall:  1.0\n",
            "Predicted number of good songs:  159 \n",
            "Predicted number of bad songs:  491\n"
          ],
          "name": "stdout"
        }
      ]
    },
    {
      "cell_type": "markdown",
      "metadata": {
        "id": "Vi2njXyNzC_o"
      },
      "source": [
        "Predictions on test set."
      ]
    },
    {
      "cell_type": "code",
      "metadata": {
        "colab": {
          "base_uri": "https://localhost:8080/"
        },
        "id": "7b0qHH_UzNpA",
        "outputId": "e75e2ee1-35a3-4c28-8bdf-8daa5d88538b"
      },
      "source": [
        "# the predictions of the model\r\n",
        "y_pred = clf.predict(X_pred)\r\n",
        "\r\n",
        "# good songs\r\n",
        "good = np.count_nonzero(y_pred)\r\n",
        "# bad songs\r\n",
        "bad = len(y_pred) - good\r\n",
        "\r\n",
        "# the predicted number of good and bad songs\r\n",
        "print('Predicted number of good songs: ', good,\r\n",
        "      '\\nPredicted number of bad songs: ', bad)"
      ],
      "execution_count": 16,
      "outputs": [
        {
          "output_type": "stream",
          "text": [
            "Predicted number of good songs:  184 \n",
            "Predicted number of bad songs:  2418\n"
          ],
          "name": "stdout"
        }
      ]
    },
    {
      "cell_type": "markdown",
      "metadata": {
        "id": "T1YcXbQizgwH"
      },
      "source": [
        "Assuming that the training set is representative of my song library (which with knowledge of my Liked songs it should roughly be) we can see that this models cross validation has suffered from overfitting this is likely down to an unbalanced dataset. To combat this and using knowledge of the cross validation I will know update the model parameters until they are predicting roughly 24% to be good songs and to have an accuracy above 98% on the test set."
      ]
    },
    {
      "cell_type": "code",
      "metadata": {
        "colab": {
          "base_uri": "https://localhost:8080/"
        },
        "id": "ew3QbwmU1Ctc",
        "outputId": "5b4249d0-8b3f-453c-d7ad-2c46956a5568"
      },
      "source": [
        "ratios = []\r\n",
        "accuracy = []\r\n",
        "gammas = np.arange(1, 6, 0.01)\r\n",
        "for gamma in gammas:\r\n",
        "    clf = SVC(class_weight='balanced', gamma=gamma).fit(X, y)\r\n",
        "    # the predictions of the model\r\n",
        "    y_pred = clf.predict(X_pred)\r\n",
        "\r\n",
        "    # good songs\r\n",
        "    good = np.count_nonzero(y_pred)\r\n",
        "    \r\n",
        "    # good ratio\r\n",
        "    ratio = good/len(y_pred)\r\n",
        "\r\n",
        "    # add to ratios\r\n",
        "    ratios.append(ratio)\r\n",
        "    accuracy.append(clf.score(X, y))\r\n",
        "\r\n",
        "# convert to array \r\n",
        "ratios = np.array(ratios)\r\n",
        "\r\n",
        "# remove gammas with low accuracy\r\n",
        "ratios[np.array(accuracy) < 0.98] = 1\r\n",
        "\r\n",
        "# best remaining gamma\r\n",
        "opt_gamma = gammas[np.argmin(np.abs(ratios-159/650))]\r\n",
        "print('Optimum gamma: ', opt_gamma)"
      ],
      "execution_count": 17,
      "outputs": [
        {
          "output_type": "stream",
          "text": [
            "Optimum gamma:  2.260000000000001\n"
          ],
          "name": "stdout"
        }
      ]
    },
    {
      "cell_type": "markdown",
      "metadata": {
        "id": "MQNXtO765hgS"
      },
      "source": [
        "Performance of new optimum model on the training data set."
      ]
    },
    {
      "cell_type": "code",
      "metadata": {
        "colab": {
          "base_uri": "https://localhost:8080/"
        },
        "id": "vuBPLDQw5p2G",
        "outputId": "170fb854-20d4-457c-cc6e-2c3af39c0aa2"
      },
      "source": [
        "# the trained optimum model\r\n",
        "clf = SVC(class_weight='balanced', gamma=opt_gamma).fit(X, y)\r\n",
        "\r\n",
        "# the predictions of the model\r\n",
        "y_pred = clf.predict(X)\r\n",
        "\r\n",
        "# the mean score of the best parameters\r\n",
        "print('Accuracy: ', clf.score(X, y))\r\n",
        "\r\n",
        "# the recall of the predictions\r\n",
        "print('Recall: ', recall_score(y, y_pred))\r\n",
        "\r\n",
        "# good songs\r\n",
        "good = np.count_nonzero(y_pred)\r\n",
        "# bad songs\r\n",
        "bad = len(y_pred) - good\r\n",
        "\r\n",
        "# the predicted number of good and bad songs\r\n",
        "print('Predicted number of good songs: ', good,\r\n",
        "      '\\nPredicted number of bad songs: ', bad)"
      ],
      "execution_count": 18,
      "outputs": [
        {
          "output_type": "stream",
          "text": [
            "Accuracy:  0.98\n",
            "Recall:  1.0\n",
            "Predicted number of good songs:  172 \n",
            "Predicted number of bad songs:  478\n"
          ],
          "name": "stdout"
        }
      ]
    },
    {
      "cell_type": "markdown",
      "metadata": {
        "id": "lEGjTdbc6Rrc"
      },
      "source": [
        "Predictions on the full dataset."
      ]
    },
    {
      "cell_type": "code",
      "metadata": {
        "colab": {
          "base_uri": "https://localhost:8080/"
        },
        "id": "8-hTfy-26Rrd",
        "outputId": "2b4f3ae1-092a-4a24-b510-91b2b9d1ed34"
      },
      "source": [
        "# the predictions of the model\r\n",
        "y_pred = clf.predict(X_pred)\r\n",
        "\r\n",
        "# good songs\r\n",
        "good = np.count_nonzero(y_pred)\r\n",
        "# bad songs\r\n",
        "bad = len(y_pred) - good\r\n",
        "\r\n",
        "# the predicted number of good and bad songs\r\n",
        "print('Predicted number of good songs: ', good,\r\n",
        "      '\\nPredicted number of bad songs: ', bad)"
      ],
      "execution_count": 19,
      "outputs": [
        {
          "output_type": "stream",
          "text": [
            "Predicted number of good songs:  505 \n",
            "Predicted number of bad songs:  2097\n"
          ],
          "name": "stdout"
        }
      ]
    },
    {
      "cell_type": "markdown",
      "metadata": {
        "id": "18m_tOBo9mV2"
      },
      "source": [
        "### Evaluation\r\n",
        "\r\n",
        "It is clear that the best performing model is the SVM model so I will use that to make my predictions and hence create my playlist."
      ]
    },
    {
      "cell_type": "markdown",
      "metadata": {
        "id": "eNE98vhy_4m-"
      },
      "source": [
        "## Creating The Playlist"
      ]
    },
    {
      "cell_type": "markdown",
      "metadata": {
        "id": "8gMQlfgyB7m5"
      },
      "source": [
        "I will now create the playlist."
      ]
    },
    {
      "cell_type": "code",
      "metadata": {
        "id": "uQGvNVkSB_O2"
      },
      "source": [
        "# ids of songs in the playlist\r\n",
        "ids = scaled_df['id'][y_pred]\r\n",
        "\r\n",
        "# create playlist\r\n",
        "playlist = sp.user_playlist_create(username, name='SVM Running Playlist',\r\n",
        "                                   public=False, description='')\r\n",
        "# add songs\r\n",
        "offset=0\r\n",
        "while offset <= len(ids):\r\n",
        "    songs = ids[offset:offset+100] \r\n",
        "    offset += 100\r\n",
        "    sp.user_playlist_add_tracks(username, playlist['id'], songs)"
      ],
      "execution_count": 71,
      "outputs": []
    }
  ]
}