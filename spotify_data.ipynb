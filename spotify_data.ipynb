{
  "nbformat": 4,
  "nbformat_minor": 0,
  "metadata": {
    "colab": {
      "name": "spotify_data.ipynb",
      "provenance": [],
      "authorship_tag": "ABX9TyOjkLpZh35bZdSdW3EDQoOg",
      "include_colab_link": true
    },
    "kernelspec": {
      "name": "python3",
      "display_name": "Python 3"
    }
  },
  "cells": [
    {
      "cell_type": "markdown",
      "metadata": {
        "id": "view-in-github",
        "colab_type": "text"
      },
      "source": [
        "<a href=\"https://colab.research.google.com/github/DomMc97/Running-Playlist/blob/main/spotify_data.ipynb\" target=\"_parent\"><img src=\"https://colab.research.google.com/assets/colab-badge.svg\" alt=\"Open In Colab\"/></a>"
      ]
    },
    {
      "cell_type": "markdown",
      "metadata": {
        "id": "nurhx4ao6S1U"
      },
      "source": [
        "## Spotify Data\r\n",
        "A notebook which sources my Liked song data from Spotify."
      ]
    },
    {
      "cell_type": "markdown",
      "metadata": {
        "id": "-6wp0Hem7Kb9"
      },
      "source": [
        "## Set Up"
      ]
    },
    {
      "cell_type": "markdown",
      "metadata": {
        "id": "Kkw9BHtF7-Ku"
      },
      "source": [
        "Imports libraries."
      ]
    },
    {
      "cell_type": "code",
      "metadata": {
        "id": "CR_zIHWIqQef"
      },
      "source": [
        "# data analytics library\r\n",
        "import pandas as pd\r\n",
        "\r\n",
        "# sklearn functions\r\n",
        "from sklearn.preprocessing import StandardScaler"
      ],
      "execution_count": 2,
      "outputs": []
    },
    {
      "cell_type": "code",
      "metadata": {
        "colab": {
          "base_uri": "https://localhost:8080/"
        },
        "id": "Zw1TfrtjrusC",
        "outputId": "d01e5664-e5a0-4ce4-f2b3-d366135e947d"
      },
      "source": [
        "# spotify library\r\n",
        "!pip install Spotipy\r\n",
        "import spotipy \r\n",
        "from spotipy.oauth2 import SpotifyClientCredentials"
      ],
      "execution_count": 3,
      "outputs": [
        {
          "output_type": "stream",
          "text": [
            "Collecting Spotipy\n",
            "  Downloading https://files.pythonhosted.org/packages/7a/cd/e7d9a35216ea5bfb9234785f3d8fa7c96d0e33999c2cb72394128f6b4cce/spotipy-2.16.1-py3-none-any.whl\n",
            "Requirement already satisfied: six>=1.10.0 in /usr/local/lib/python3.6/dist-packages (from Spotipy) (1.15.0)\n",
            "Requirement already satisfied: requests>=2.20.0 in /usr/local/lib/python3.6/dist-packages (from Spotipy) (2.23.0)\n",
            "Requirement already satisfied: urllib3!=1.25.0,!=1.25.1,<1.26,>=1.21.1 in /usr/local/lib/python3.6/dist-packages (from requests>=2.20.0->Spotipy) (1.24.3)\n",
            "Requirement already satisfied: idna<3,>=2.5 in /usr/local/lib/python3.6/dist-packages (from requests>=2.20.0->Spotipy) (2.10)\n",
            "Requirement already satisfied: chardet<4,>=3.0.2 in /usr/local/lib/python3.6/dist-packages (from requests>=2.20.0->Spotipy) (3.0.4)\n",
            "Requirement already satisfied: certifi>=2017.4.17 in /usr/local/lib/python3.6/dist-packages (from requests>=2.20.0->Spotipy) (2020.12.5)\n",
            "Installing collected packages: Spotipy\n",
            "Successfully installed Spotipy-2.16.1\n"
          ],
          "name": "stdout"
        }
      ]
    },
    {
      "cell_type": "markdown",
      "metadata": {
        "id": "XMHyJ8ul8GLL"
      },
      "source": [
        "Mounts Google Drive."
      ]
    },
    {
      "cell_type": "code",
      "metadata": {
        "colab": {
          "base_uri": "https://localhost:8080/"
        },
        "id": "pK7BIBFumqV4",
        "outputId": "ea9ffc32-6d25-47ef-8e67-19629a3dbaf5"
      },
      "source": [
        "# libraries for saving/loading data\r\n",
        "from google.colab import drive\r\n",
        "import pickle\r\n",
        "\r\n",
        "# mount drive\r\n",
        "drive.mount('/content/drive')\r\n",
        "\r\n",
        "# root of all file paths used in notebook\r\n",
        "root = '/content/drive/My Drive/Spotify/Data/'"
      ],
      "execution_count": 4,
      "outputs": [
        {
          "output_type": "stream",
          "text": [
            "Mounted at /content/drive\n"
          ],
          "name": "stdout"
        }
      ]
    },
    {
      "cell_type": "markdown",
      "metadata": {
        "id": "gB_8cslX8MQ7"
      },
      "source": [
        "## Load Spotify Data\r\n"
      ]
    },
    {
      "cell_type": "markdown",
      "metadata": {
        "id": "D6rmK39u8RAm"
      },
      "source": [
        "Aquires access to my Spotify account using a Spotify API."
      ]
    },
    {
      "cell_type": "code",
      "metadata": {
        "id": "MiA6kR710qrZ"
      },
      "source": [
        "# user credentials\r\n",
        "cid ='<My CID>'\r\n",
        "secret = '<My Secret ID>'\r\n",
        "username = '<My Username>'\r\n",
        "scope = 'user-library-read'\r\n",
        "redirect_uri='http://localhost:8888/callback/'\r\n",
        "\r\n",
        "# access token\r\n",
        "client_credentials_manager = spotipy.oauth2.SpotifyOAuth(\r\n",
        "    scope=scope,\r\n",
        "    username=username,\r\n",
        "    client_id=cid,\r\n",
        "    client_secret=secret,\r\n",
        "    redirect_uri=redirect_uri,\r\n",
        "    open_browser=False)\r\n",
        "\r\n",
        "# aquires access to data\r\n",
        "sp = spotipy.Spotify(client_credentials_manager=client_credentials_manager)"
      ],
      "execution_count": 5,
      "outputs": []
    },
    {
      "cell_type": "markdown",
      "metadata": {
        "id": "E1sd82nv9GDF"
      },
      "source": [
        "Creates a dataframe of all my liked songs and their audio features.\r\n",
        "\r\n",
        "**Key:**\r\n",
        "The estimated overall key of the track.\r\n",
        "\r\n",
        "**Acousticness:**\r\n",
        "A confidence measure from 0.0 to 1.0 of whether the track is acoustic. 1.0 represents high confidence the track is acoustic.\r\n",
        "\r\n",
        "**Danceability:**\r\n",
        "Danceability describes how suitable a track is for dancing based on a combination of musical elements including tempo, rhythm stability, beat strength, and overall regularity. A value of 0.0 is least danceable and 1.0 is most danceable. \r\n",
        "\r\n",
        "**Energy:**\r\n",
        "Energy is a measure from 0.0 to 1.0 and represents a perceptual measure of intensity and activity.\r\n",
        "\r\n",
        "**Loudness:**\r\n",
        "The overall loudness of a track in decibels (dB). Loudness values are averaged across the entire track and are useful for comparing relative loudness of tracks.\r\n",
        "\r\n",
        "\r\n",
        "**Spechiness**\r\n",
        "Speechiness detects the presence of spoken words in a track.\r\n",
        "\r\n",
        "**Tempo:**\r\n",
        "The overall estimated tempo of a track in beats per minute (BPM). \r\n",
        "\r\n"
      ]
    },
    {
      "cell_type": "code",
      "metadata": {
        "id": "AdCym3Pj6Scn"
      },
      "source": [
        "offset = 0\r\n",
        "songs = []\r\n",
        "names = []\r\n",
        "ids = []\r\n",
        "\r\n",
        "# acquries all my songs \r\n",
        "while True:\r\n",
        "    content = sp.current_user_saved_tracks(limit=50, offset=offset)\r\n",
        "    songs += content['items']\r\n",
        "    if content['next'] is not None:\r\n",
        "        offset += 50\r\n",
        "    else:\r\n",
        "        break\r\n",
        "\r\n",
        "# gets song names and ids \r\n",
        "for i in songs:\r\n",
        "    names.append(i['track']['name'])\r\n",
        "    ids.append(i['track']['id'])\r\n",
        "\r\n",
        "# gets all the audio features for all songs\r\n",
        "index=0\r\n",
        "audio_features=[]\r\n",
        "while index < len(ids):\r\n",
        "    audio_features += sp.audio_features(ids[index:index + 50])\r\n",
        "    index += 50\r\n",
        "\r\n",
        "# creates a list of features for each song\r\n",
        "features_list = []\r\n",
        "for features in audio_features:\r\n",
        "    features_list.append([features['key'], features['acousticness'],\r\n",
        "                          features['danceability'],features['energy'],\r\n",
        "                          features['loudness'], features['speechiness'],\r\n",
        "                          features['tempo']])\r\n",
        "\r\n",
        "# creates a dataframe of my song library\r\n",
        "songs_df = pd.DataFrame(features_list, columns=['key', 'acousticness', \r\n",
        "                                            'danceability', 'energy', \r\n",
        "                                            'loudness', 'speechiness', \r\n",
        "                                            'tempo'])\r\n",
        "songs_df.insert(0, 'id', ids)\r\n",
        "songs_df.insert(0, 'name', names)"
      ],
      "execution_count": null,
      "outputs": []
    },
    {
      "cell_type": "markdown",
      "metadata": {
        "id": "BLCWaqLXGtmT"
      },
      "source": [
        "## Process Data"
      ]
    },
    {
      "cell_type": "markdown",
      "metadata": {
        "id": "U1vaC5MPHe42"
      },
      "source": [
        "Removes songs with no attribute data. "
      ]
    },
    {
      "cell_type": "code",
      "metadata": {
        "id": "-pUHeRYFHkwy"
      },
      "source": [
        "songs_df = songs_df[songs_df['tempo'] != 0]"
      ],
      "execution_count": 7,
      "outputs": []
    },
    {
      "cell_type": "markdown",
      "metadata": {
        "id": "w9fWGl1FEdU0"
      },
      "source": [
        "Displays the dataframe."
      ]
    },
    {
      "cell_type": "code",
      "metadata": {
        "colab": {
          "base_uri": "https://localhost:8080/",
          "height": 237
        },
        "id": "8wpw5ptQ3z4k",
        "outputId": "f366a877-76b7-4d3c-cb1f-dfe39df618a8"
      },
      "source": [
        "N, M = songs_df.shape\r\n",
        "print('Columns: ', M, '\\nRows:', N)\r\n",
        "songs_df.head()"
      ],
      "execution_count": 8,
      "outputs": [
        {
          "output_type": "stream",
          "text": [
            "Columns:  9 \n",
            "Rows: 2602\n"
          ],
          "name": "stdout"
        },
        {
          "output_type": "execute_result",
          "data": {
            "text/html": [
              "<div>\n",
              "<style scoped>\n",
              "    .dataframe tbody tr th:only-of-type {\n",
              "        vertical-align: middle;\n",
              "    }\n",
              "\n",
              "    .dataframe tbody tr th {\n",
              "        vertical-align: top;\n",
              "    }\n",
              "\n",
              "    .dataframe thead th {\n",
              "        text-align: right;\n",
              "    }\n",
              "</style>\n",
              "<table border=\"1\" class=\"dataframe\">\n",
              "  <thead>\n",
              "    <tr style=\"text-align: right;\">\n",
              "      <th></th>\n",
              "      <th>name</th>\n",
              "      <th>id</th>\n",
              "      <th>key</th>\n",
              "      <th>acousticness</th>\n",
              "      <th>danceability</th>\n",
              "      <th>energy</th>\n",
              "      <th>loudness</th>\n",
              "      <th>speechiness</th>\n",
              "      <th>tempo</th>\n",
              "    </tr>\n",
              "  </thead>\n",
              "  <tbody>\n",
              "    <tr>\n",
              "      <th>0</th>\n",
              "      <td>Sleep Walker</td>\n",
              "      <td>7KLikopJc6LCkohWF5QnHS</td>\n",
              "      <td>5</td>\n",
              "      <td>0.004970</td>\n",
              "      <td>0.452</td>\n",
              "      <td>0.611</td>\n",
              "      <td>-6.933</td>\n",
              "      <td>0.0336</td>\n",
              "      <td>125.018</td>\n",
              "    </tr>\n",
              "    <tr>\n",
              "      <th>1</th>\n",
              "      <td>Sex Hair</td>\n",
              "      <td>0zHDpXbBpamkXVfXkTQeUT</td>\n",
              "      <td>4</td>\n",
              "      <td>0.028200</td>\n",
              "      <td>0.495</td>\n",
              "      <td>0.935</td>\n",
              "      <td>-3.957</td>\n",
              "      <td>0.0495</td>\n",
              "      <td>169.917</td>\n",
              "    </tr>\n",
              "    <tr>\n",
              "      <th>2</th>\n",
              "      <td>Caught Up</td>\n",
              "      <td>645hr7BS1p0a2tT5A4rj1b</td>\n",
              "      <td>1</td>\n",
              "      <td>0.000089</td>\n",
              "      <td>0.352</td>\n",
              "      <td>0.787</td>\n",
              "      <td>-7.776</td>\n",
              "      <td>0.0472</td>\n",
              "      <td>167.896</td>\n",
              "    </tr>\n",
              "    <tr>\n",
              "      <th>3</th>\n",
              "      <td>Girl Like You</td>\n",
              "      <td>5ZsuhbdQSRS4wqggUrCz9e</td>\n",
              "      <td>1</td>\n",
              "      <td>0.350000</td>\n",
              "      <td>0.629</td>\n",
              "      <td>0.823</td>\n",
              "      <td>-5.744</td>\n",
              "      <td>0.0597</td>\n",
              "      <td>169.961</td>\n",
              "    </tr>\n",
              "    <tr>\n",
              "      <th>4</th>\n",
              "      <td>The Difference</td>\n",
              "      <td>4nlvKIIetOWGIMyhjQXgOZ</td>\n",
              "      <td>1</td>\n",
              "      <td>0.255000</td>\n",
              "      <td>0.560</td>\n",
              "      <td>0.865</td>\n",
              "      <td>-1.148</td>\n",
              "      <td>0.0909</td>\n",
              "      <td>159.960</td>\n",
              "    </tr>\n",
              "  </tbody>\n",
              "</table>\n",
              "</div>"
            ],
            "text/plain": [
              "             name                      id  key  ...  loudness  speechiness    tempo\n",
              "0    Sleep Walker  7KLikopJc6LCkohWF5QnHS    5  ...    -6.933       0.0336  125.018\n",
              "1        Sex Hair  0zHDpXbBpamkXVfXkTQeUT    4  ...    -3.957       0.0495  169.917\n",
              "2       Caught Up  645hr7BS1p0a2tT5A4rj1b    1  ...    -7.776       0.0472  167.896\n",
              "3   Girl Like You  5ZsuhbdQSRS4wqggUrCz9e    1  ...    -5.744       0.0597  169.961\n",
              "4  The Difference  4nlvKIIetOWGIMyhjQXgOZ    1  ...    -1.148       0.0909  159.960\n",
              "\n",
              "[5 rows x 9 columns]"
            ]
          },
          "metadata": {
            "tags": []
          },
          "execution_count": 8
        }
      ]
    },
    {
      "cell_type": "markdown",
      "metadata": {
        "id": "8NsRTaVAGxSC"
      },
      "source": [
        "Standardises the features to a balanced common scale.\r\n"
      ]
    },
    {
      "cell_type": "code",
      "metadata": {
        "id": "-eT0OiRCHjcU"
      },
      "source": [
        "# scaling function\r\n",
        "scaler = StandardScaler()\r\n",
        "\r\n",
        "# features \r\n",
        "features = songs_df.iloc[:,2:]\r\n",
        "\r\n",
        "# fit scaler\r\n",
        "scaler.fit(features)\r\n",
        "\r\n",
        "# transform features according to this scale\r\n",
        "scaled_features = scaler.transform(features)\r\n",
        "\r\n",
        "# creates a scaled df\r\n",
        "scaled_df = pd.DataFrame(scaled_features, columns=['key', 'acousticness', \r\n",
        "                                                   'danceability', 'energy', \r\n",
        "                                                   'loudness', 'speechiness', \r\n",
        "                                                   'tempo'])\r\n",
        "scaled_df.insert(0, 'id', list(songs_df['id']))\r\n",
        "scaled_df.insert(0, 'name', list(songs_df['name']))"
      ],
      "execution_count": 10,
      "outputs": []
    },
    {
      "cell_type": "markdown",
      "metadata": {
        "id": "6JDbszGVJpJy"
      },
      "source": [
        "Displays scaled data."
      ]
    },
    {
      "cell_type": "code",
      "metadata": {
        "colab": {
          "base_uri": "https://localhost:8080/",
          "height": 237
        },
        "id": "rVD1vPm8Jkj_",
        "outputId": "6cacfab7-1b0a-43f5-e88e-02f674b487e6"
      },
      "source": [
        "N, M = scaled_df.shape\r\n",
        "print('Columns: ', M, '\\nRows:', N)\r\n",
        "scaled_df.head()"
      ],
      "execution_count": 11,
      "outputs": [
        {
          "output_type": "stream",
          "text": [
            "Columns:  9 \n",
            "Rows: 2602\n"
          ],
          "name": "stdout"
        },
        {
          "output_type": "execute_result",
          "data": {
            "text/html": [
              "<div>\n",
              "<style scoped>\n",
              "    .dataframe tbody tr th:only-of-type {\n",
              "        vertical-align: middle;\n",
              "    }\n",
              "\n",
              "    .dataframe tbody tr th {\n",
              "        vertical-align: top;\n",
              "    }\n",
              "\n",
              "    .dataframe thead th {\n",
              "        text-align: right;\n",
              "    }\n",
              "</style>\n",
              "<table border=\"1\" class=\"dataframe\">\n",
              "  <thead>\n",
              "    <tr style=\"text-align: right;\">\n",
              "      <th></th>\n",
              "      <th>name</th>\n",
              "      <th>id</th>\n",
              "      <th>key</th>\n",
              "      <th>acousticness</th>\n",
              "      <th>danceability</th>\n",
              "      <th>energy</th>\n",
              "      <th>loudness</th>\n",
              "      <th>speechiness</th>\n",
              "      <th>tempo</th>\n",
              "    </tr>\n",
              "  </thead>\n",
              "  <tbody>\n",
              "    <tr>\n",
              "      <th>0</th>\n",
              "      <td>Sleep Walker</td>\n",
              "      <td>7KLikopJc6LCkohWF5QnHS</td>\n",
              "      <td>-0.102865</td>\n",
              "      <td>-0.464839</td>\n",
              "      <td>-0.438657</td>\n",
              "      <td>-0.984089</td>\n",
              "      <td>-0.355540</td>\n",
              "      <td>-0.567698</td>\n",
              "      <td>-0.130965</td>\n",
              "    </tr>\n",
              "    <tr>\n",
              "      <th>1</th>\n",
              "      <td>Sex Hair</td>\n",
              "      <td>0zHDpXbBpamkXVfXkTQeUT</td>\n",
              "      <td>-0.377382</td>\n",
              "      <td>-0.340965</td>\n",
              "      <td>-0.121657</td>\n",
              "      <td>0.977156</td>\n",
              "      <td>0.835729</td>\n",
              "      <td>-0.206493</td>\n",
              "      <td>1.516579</td>\n",
              "    </tr>\n",
              "    <tr>\n",
              "      <th>2</th>\n",
              "      <td>Caught Up</td>\n",
              "      <td>645hr7BS1p0a2tT5A4rj1b</td>\n",
              "      <td>-1.200935</td>\n",
              "      <td>-0.490868</td>\n",
              "      <td>-1.175867</td>\n",
              "      <td>0.081278</td>\n",
              "      <td>-0.692986</td>\n",
              "      <td>-0.258742</td>\n",
              "      <td>1.442419</td>\n",
              "    </tr>\n",
              "    <tr>\n",
              "      <th>3</th>\n",
              "      <td>Girl Like You</td>\n",
              "      <td>5ZsuhbdQSRS4wqggUrCz9e</td>\n",
              "      <td>-1.200935</td>\n",
              "      <td>1.375030</td>\n",
              "      <td>0.866205</td>\n",
              "      <td>0.299195</td>\n",
              "      <td>0.120407</td>\n",
              "      <td>0.025224</td>\n",
              "      <td>1.518193</td>\n",
              "    </tr>\n",
              "    <tr>\n",
              "      <th>4</th>\n",
              "      <td>The Difference</td>\n",
              "      <td>4nlvKIIetOWGIMyhjQXgOZ</td>\n",
              "      <td>-1.200935</td>\n",
              "      <td>0.868443</td>\n",
              "      <td>0.357530</td>\n",
              "      <td>0.553430</td>\n",
              "      <td>1.960149</td>\n",
              "      <td>0.734004</td>\n",
              "      <td>1.151212</td>\n",
              "    </tr>\n",
              "  </tbody>\n",
              "</table>\n",
              "</div>"
            ],
            "text/plain": [
              "             name                      id  ...  speechiness     tempo\n",
              "0    Sleep Walker  7KLikopJc6LCkohWF5QnHS  ...    -0.567698 -0.130965\n",
              "1        Sex Hair  0zHDpXbBpamkXVfXkTQeUT  ...    -0.206493  1.516579\n",
              "2       Caught Up  645hr7BS1p0a2tT5A4rj1b  ...    -0.258742  1.442419\n",
              "3   Girl Like You  5ZsuhbdQSRS4wqggUrCz9e  ...     0.025224  1.518193\n",
              "4  The Difference  4nlvKIIetOWGIMyhjQXgOZ  ...     0.734004  1.151212\n",
              "\n",
              "[5 rows x 9 columns]"
            ]
          },
          "metadata": {
            "tags": []
          },
          "execution_count": 11
        }
      ]
    },
    {
      "cell_type": "markdown",
      "metadata": {
        "id": "-hgZqtzwFR7n"
      },
      "source": [
        "## Saves Data"
      ]
    },
    {
      "cell_type": "markdown",
      "metadata": {
        "id": "24C5Bnd-Fjqq"
      },
      "source": [
        "Saves the acquired data to my Google Drive."
      ]
    },
    {
      "cell_type": "code",
      "metadata": {
        "id": "h0AX0n6tFomS"
      },
      "source": [
        "# saves df's\r\n",
        "songs_df.to_csv(root + 'mysongs.csv')\r\n",
        "scaled_df.to_csv(root + 'scaledsongs.csv')\r\n",
        "\r\n",
        "# saves scaler\r\n",
        "with open(root  + 'Scaler.sav','wb') as f:\r\n",
        "    pickle.dump(scaler, f)"
      ],
      "execution_count": 12,
      "outputs": []
    }
  ]
}